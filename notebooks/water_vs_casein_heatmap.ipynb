{
 "cells": [
  {
   "cell_type": "code",
   "execution_count": 1,
   "metadata": {},
   "outputs": [
    {
     "name": "stdout",
     "output_type": "stream",
     "text": [
      "Yay for FT106\n",
      "Yay for FT112\n",
      "Yay for FT118\n",
      "Yay for FT120\n",
      "Yay for FT126\n",
      "Yay for FT136\n",
      "Yay for FT127\n",
      "Yay for FT133\n",
      "Yay for FT106\n",
      "Yay for FT112\n",
      "Yay for FT118\n",
      "Yay for FT120\n",
      "Yay for FT126\n",
      "Yay for FT136\n",
      "Yay for FT127\n",
      "Yay for FT133\n",
      "Yay for FT106\n",
      "Yay for FT112\n",
      "Yay for FT118\n",
      "Yay for FT120\n",
      "Yay for FT126\n",
      "Yay for FT136\n",
      "Yay for FT127\n",
      "Yay for FT133\n",
      "Yay for FT106\n",
      "Yay for FT112\n",
      "Yay for FT118\n",
      "Yay for FT120\n",
      "Yay for FT126\n",
      "Yay for FT136\n",
      "Yay for FT127\n",
      "Yay for FT133\n"
     ]
    }
   ],
   "source": [
    "%run \"../src/read_data.py\""
   ]
  },
  {
   "cell_type": "code",
   "execution_count": 5,
   "metadata": {},
   "outputs": [],
   "source": [
    "df_to_use = df_area_norm\n",
    "\n",
    "def subset_to_array(df, selector_dict):\n",
    "\n",
    "    df_subset = df\n",
    "    for key, val in selector_dict.items():\n",
    "        if key not in df_subset.columns:\n",
    "            print(key, \"is not in the list of columns. Check selector!\")\n",
    "            return\n",
    "\n",
    "        df_subset = df_subset[df_subset[key] == val]\n",
    "    \n",
    "    df_array = df_subset.to_numpy()[:,5:]\n",
    "\n",
    "    return df_array\n",
    "\n",
    "nr_water_selector = {\"celltype\": \"fos\", \"diet\": \"nr\", \"solution2\": \"water\"}\n",
    "nr_cas_selector = {\"celltype\": \"fos\", \"diet\": \"nr\", \"solution2\": \"casein\"}\n",
    "pr_water_selector = {\"celltype\": \"fos\", \"diet\": \"pr\", \"solution2\": \"water\"}\n",
    "pr_cas_selector = {\"celltype\": \"fos\", \"diet\": \"pr\", \"solution2\": \"casein\"}\n",
    "\n",
    "nr_water = subset_to_array(df_to_use, nr_water_selector)\n",
    "nr_cas = subset_to_array(df_to_use, nr_cas_selector)\n",
    "pr_water = subset_to_array(df_to_use, pr_water_selector)\n",
    "pr_cas = subset_to_array(df_to_use, pr_cas_selector)\n",
    "\n",
    "df_array = np.concatenate([nr_water, nr_cas, pr_water, pr_cas])"
   ]
  },
  {
   "cell_type": "code",
   "execution_count": 4,
   "metadata": {},
   "outputs": [
    {
     "data": {
      "text/plain": [
       "Clear Label                    305\n",
       "root                            82\n",
       "Frontal pole, layer 6a          84\n",
       "Frontal pole, layer 6b         306\n",
       "Primary motor area, Layer 1    262\n",
       "                              ... \n",
       "choroid plexus                 165\n",
       "third ventricle                332\n",
       "cerebral aqueduct              504\n",
       "fourth ventricle               284\n",
       "lateral recess                 273\n",
       "Name: Difference score, Length: 575, dtype: int64"
      ]
     },
     "execution_count": 4,
     "metadata": {},
     "output_type": "execute_result"
    }
   ],
   "source": [
    "def find_biggest_diffs(df):\n",
    "\n",
    "    df_diff = pd.DataFrame(columns=[\"Difference score\"])\n",
    "    for column in df.columns:\n",
    "        if is_numeric_dtype(df[column]):\n",
    "            data_water = df[df[\"solution2\"] == \"water\"][column]\n",
    "            data_cas = df[df[\"solution2\"] == \"casein\"][column]\n",
    "\n",
    "            df_new = pd.DataFrame(data=[data_cas.mean() - data_water.mean()], columns=[\"Difference score\"], index=[column])\n",
    "            df_diff = pd.concat([df_diff, df_new])\n",
    "\n",
    "    return df_diff\n",
    "\n",
    "df_diff = find_biggest_diffs(df_area_norm)\n",
    "\n",
    "len(df_diff)\n",
    "sort_inds = np.argsort(df_diff[\"Difference score\"])\n",
    "sort_inds"
   ]
  },
  {
   "cell_type": "code",
   "execution_count": 67,
   "metadata": {},
   "outputs": [],
   "source": [
    "df_cells_fos = df_cells_norm[df_cells_norm[\"celltype\"] == \"fos\"]\n",
    "df_sorted = df_cells_fos.sort_values(['diet', 'solution2'],\n",
    "              ascending = [True, False])\n",
    "\n",
    "cells_array = df_sorted.to_numpy()[:,5:]\n",
    "cells_array_float = np.array(cells_array, dtype=\"float32\")"
   ]
  },
  {
   "cell_type": "code",
   "execution_count": 6,
   "metadata": {},
   "outputs": [],
   "source": [
    "df_area_fos = df_area_norm[df_area_norm[\"celltype\"] == \"fos\"]\n",
    "df_sorted = df_area_fos.sort_values(['diet', 'solution2'],\n",
    "              ascending = [True, False])\n",
    "\n",
    "area_array = df_sorted.to_numpy()[:,5:]\n",
    "area_array_float = np.array(area_array, dtype=\"float32\")"
   ]
  },
  {
   "cell_type": "code",
   "execution_count": 9,
   "metadata": {},
   "outputs": [
    {
     "data": {
      "image/png": "[encoded data removed]",
      "text/plain": [
       "<Figure size 576x360 with 2 Axes>"
      ]
     },
     "metadata": {
      "needs_background": "light"
     },
     "output_type": "display_data"
    }
   ],
   "source": [
    "import trompy as tp\n",
    "import matplotlib.pyplot as plt\n",
    "\n",
    "f, ax = plt.subplots(figsize=(8,5), ncols=2, gridspec_kw={\"width_ratios\": [14,1]})\n",
    "\n",
    "data = area_array_float.T\n",
    "data = data[sort_inds]\n",
    "\n",
    "# clims = [-0.14, 1.2]\n",
    "(ntrials, bins) = np.shape(data)\n",
    "\n",
    "xvals = np.linspace(0, 575,bins)\n",
    "yvals = np.arange(0, ntrials)\n",
    "(xx, yy) = np.meshgrid(xvals, yvals)\n",
    "\n",
    "mesh = ax[0].pcolormesh(xx, yy, data, cmap=\"bwr\", shading=\"auto\")\n",
    "cbar = f.colorbar(mesh, cax=ax[1], ticks=[-2, -1, 0, 1, 2, 3])\n",
    "# mesh.set_clim(clims)\n"
   ]
  },
  {
   "cell_type": "code",
   "execution_count": 62,
   "metadata": {},
   "outputs": [
    {
     "data": {
      "text/plain": [
       "575"
      ]
     },
     "execution_count": 62,
     "metadata": {},
     "output_type": "execute_result"
    }
   ],
   "source": [
    "len(yy)"
   ]
  },
  {
   "cell_type": "code",
   "execution_count": 82,
   "metadata": {},
   "outputs": [
    {
     "data": {
      "text/plain": [
       "Clear Label                    305\n",
       "root                            82\n",
       "Frontal pole, layer 6a          84\n",
       "Frontal pole, layer 6b         306\n",
       "Primary motor area, Layer 1    262\n",
       "                              ... \n",
       "choroid plexus                 165\n",
       "third ventricle                332\n",
       "cerebral aqueduct              504\n",
       "fourth ventricle               284\n",
       "lateral recess                 273\n",
       "Name: Difference score, Length: 575, dtype: int64"
      ]
     },
     "execution_count": 82,
     "metadata": {},
     "output_type": "execute_result"
    }
   ],
   "source": [
    "len(df_diff)\n",
    "sort_inds = np.argsort(df_diff[\"Difference score\"])\n",
    "sort_inds"
   ]
  },
  {
   "cell_type": "code",
   "execution_count": 41,
   "metadata": {},
   "outputs": [],
   "source": [
    "X = area_array_float\n",
    "X.shape\n",
    "\n",
    "from sklearn.decomposition import PCA\n",
    "\n",
    "pca_all = PCA(random_state=2020)\n",
    "pca_all.fit(X)\n",
    "X_pca_all = pca_all.transform(X)"
   ]
  },
  {
   "cell_type": "code",
   "execution_count": 42,
   "metadata": {},
   "outputs": [
    {
     "name": "stdout",
     "output_type": "stream",
     "text": [
      "100.00000190734902\n"
     ]
    }
   ],
   "source": [
    "np.shape(X_pca_all)\n",
    "print(sum(pca_all.explained_variance_ratio_ * 100))"
   ]
  },
  {
   "cell_type": "code",
   "execution_count": 43,
   "metadata": {},
   "outputs": [
    {
     "data": {
      "text/plain": [
       "(0.0, 1.1)"
      ]
     },
     "execution_count": 43,
     "metadata": {},
     "output_type": "execute_result"
    },
    {
     "data": {
      "image/png": "[encoded data removed]",
      "text/plain": [
       "<Figure size 432x288 with 1 Axes>"
      ]
     },
     "metadata": {
      "needs_background": "light"
     },
     "output_type": "display_data"
    }
   ],
   "source": [
    "plt.plot(np.cumsum(pca_all.explained_variance_ratio_))\n",
    "plt.ylim([0,1.1])"
   ]
  },
  {
   "cell_type": "code",
   "execution_count": 44,
   "metadata": {},
   "outputs": [],
   "source": [
    "pca_2 = PCA(n_components=2, random_state=2020)\n",
    "pca_2.fit(X)\n",
    "X_pca_2 = pca_2.transform(X)"
   ]
  },
  {
   "cell_type": "code",
   "execution_count": 51,
   "metadata": {},
   "outputs": [
    {
     "data": {
      "text/plain": [
       "<matplotlib.collections.PathCollection at 0x204f0c35760>"
      ]
     },
     "execution_count": 51,
     "metadata": {},
     "output_type": "execute_result"
    },
    {
     "data": {
      "image/png": "[encoded data removed]",
      "text/plain": [
       "<Figure size 432x288 with 1 Axes>"
      ]
     },
     "metadata": {
      "needs_background": "light"
     },
     "output_type": "display_data"
    }
   ],
   "source": [
    "f, ax = plt.subplots()\n",
    "\n",
    "ax.scatter(X_pca_2[0:2,0], X_pca_2[0:2,1], color=\"grey\", marker=\"o\")\n",
    "ax.scatter(X_pca_2[2:4,0], X_pca_2[2:4,1], color=\"black\", marker=\"o\")\n",
    "ax.scatter(X_pca_2[4:6,0], X_pca_2[4:6,1], color=\"xkcd:teal\", marker=\"o\")\n",
    "ax.scatter(X_pca_2[6:,0], X_pca_2[6:,1], color=\"xkcd:kelly green\", marker=\"o\")"
   ]
  },
  {
   "cell_type": "code",
   "execution_count": null,
   "metadata": {},
   "outputs": [],
   "source": []
  }
 ],
 "metadata": {
  "kernelspec": {
   "display_name": "Python 3.8.13 ('fostrap')",
   "language": "python",
   "name": "python3"
  },
  "language_info": {
   "codemirror_mode": {
    "name": "ipython",
    "version": 3
   },
   "file_extension": ".py",
   "mimetype": "text/x-python",
   "name": "python",
   "nbconvert_exporter": "python",
   "pygments_lexer": "ipython3",
   "version": "3.8.13"
  },
  "orig_nbformat": 4,
  "vscode": {
   "interpreter": {
    "hash": "8deab424cfd0539014ba94770a0873772594e057e46729e1fce3c30ab90a3cb1"
   }
  }
 },
 "nbformat": 4,
 "nbformat_minor": 2
}
