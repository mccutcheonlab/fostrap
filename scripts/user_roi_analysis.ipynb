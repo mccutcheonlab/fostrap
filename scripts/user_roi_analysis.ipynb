{
 "cells": [
  {
   "cell_type": "code",
   "execution_count": 1,
   "id": "0fcd7a19",
   "metadata": {},
   "outputs": [],
   "source": [
    "import os\n",
    "import numpy as np\n",
    "from matplotlib import pyplot as plt\n",
    "import pandas as pd\n",
    "\n",
    "from scipy.stats import ttest_ind\n",
    "\n",
    "import trompy as tp"
   ]
  },
  {
   "cell_type": "code",
   "execution_count": 2,
   "id": "4b85368f",
   "metadata": {},
   "outputs": [],
   "source": [
    "folder = \"/mnt/d/TestData/fostrap/FTIG\"\n",
    "folder = \"D:\\\\TestData\\\\fostrap\\\\FTIG\""
   ]
  },
  {
   "cell_type": "code",
   "execution_count": 52,
   "id": "cecb38a0",
   "metadata": {},
   "outputs": [
    {
     "data": {
      "text/html": [
       "<div>\n",
       "<style scoped>\n",
       "    .dataframe tbody tr th:only-of-type {\n",
       "        vertical-align: middle;\n",
       "    }\n",
       "\n",
       "    .dataframe tbody tr th {\n",
       "        vertical-align: top;\n",
       "    }\n",
       "\n",
       "    .dataframe thead th {\n",
       "        text-align: right;\n",
       "    }\n",
       "</style>\n",
       "<table border=\"1\" class=\"dataframe\">\n",
       "  <thead>\n",
       "    <tr style=\"text-align: right;\">\n",
       "      <th></th>\n",
       "      <th>animal</th>\n",
       "      <th>section</th>\n",
       "      <th>region</th>\n",
       "      <th>area</th>\n",
       "      <th>nfos</th>\n",
       "      <th>ntrap</th>\n",
       "      <th>ncoloc</th>\n",
       "      <th>diet</th>\n",
       "      <th>sex</th>\n",
       "      <th>infusion1</th>\n",
       "      <th>infusion2</th>\n",
       "      <th>density_fos</th>\n",
       "      <th>density_trap</th>\n",
       "      <th>density_coloc</th>\n",
       "      <th>pc_fos_coloc</th>\n",
       "      <th>pc_trap_coloc</th>\n",
       "    </tr>\n",
       "  </thead>\n",
       "  <tbody>\n",
       "    <tr>\n",
       "      <th>339</th>\n",
       "      <td>FT109</td>\n",
       "      <td>s015</td>\n",
       "      <td>arcuate</td>\n",
       "      <td>19751</td>\n",
       "      <td>1</td>\n",
       "      <td>9</td>\n",
       "      <td>0</td>\n",
       "      <td>PR</td>\n",
       "      <td>male</td>\n",
       "      <td>casein</td>\n",
       "      <td>malt</td>\n",
       "      <td>5.063035</td>\n",
       "      <td>45.567313</td>\n",
       "      <td>0.000000</td>\n",
       "      <td>0.000000</td>\n",
       "      <td>0.000000</td>\n",
       "    </tr>\n",
       "    <tr>\n",
       "      <th>923</th>\n",
       "      <td>FT120</td>\n",
       "      <td>s013</td>\n",
       "      <td>lathypo</td>\n",
       "      <td>224011</td>\n",
       "      <td>28</td>\n",
       "      <td>40</td>\n",
       "      <td>9</td>\n",
       "      <td>PR</td>\n",
       "      <td>male</td>\n",
       "      <td>casein</td>\n",
       "      <td>casein</td>\n",
       "      <td>12.499386</td>\n",
       "      <td>17.856266</td>\n",
       "      <td>4.017660</td>\n",
       "      <td>32.142857</td>\n",
       "      <td>22.500000</td>\n",
       "    </tr>\n",
       "    <tr>\n",
       "      <th>1568</th>\n",
       "      <td>FT138</td>\n",
       "      <td>s002</td>\n",
       "      <td>caudateput</td>\n",
       "      <td>752411</td>\n",
       "      <td>79</td>\n",
       "      <td>23</td>\n",
       "      <td>4</td>\n",
       "      <td>NR</td>\n",
       "      <td>female</td>\n",
       "      <td>casein</td>\n",
       "      <td>water</td>\n",
       "      <td>10.499581</td>\n",
       "      <td>3.056840</td>\n",
       "      <td>0.531624</td>\n",
       "      <td>5.063291</td>\n",
       "      <td>17.391304</td>\n",
       "    </tr>\n",
       "    <tr>\n",
       "      <th>1942</th>\n",
       "      <td>FT149</td>\n",
       "      <td>s010</td>\n",
       "      <td>pvhypo</td>\n",
       "      <td>22657</td>\n",
       "      <td>2</td>\n",
       "      <td>14</td>\n",
       "      <td>1</td>\n",
       "      <td>PR</td>\n",
       "      <td>female</td>\n",
       "      <td>casein</td>\n",
       "      <td>malt</td>\n",
       "      <td>8.827294</td>\n",
       "      <td>61.791058</td>\n",
       "      <td>4.413647</td>\n",
       "      <td>50.000000</td>\n",
       "      <td>7.142857</td>\n",
       "    </tr>\n",
       "    <tr>\n",
       "      <th>2368</th>\n",
       "      <td>FT162</td>\n",
       "      <td>s014</td>\n",
       "      <td>arcuate</td>\n",
       "      <td>26131</td>\n",
       "      <td>2</td>\n",
       "      <td>2</td>\n",
       "      <td>0</td>\n",
       "      <td>NR</td>\n",
       "      <td>male</td>\n",
       "      <td>casein</td>\n",
       "      <td>malt</td>\n",
       "      <td>7.653745</td>\n",
       "      <td>7.653745</td>\n",
       "      <td>0.000000</td>\n",
       "      <td>0.000000</td>\n",
       "      <td>0.000000</td>\n",
       "    </tr>\n",
       "  </tbody>\n",
       "</table>\n",
       "</div>"
      ],
      "text/plain": [
       "     animal section      region    area  nfos  ntrap  ncoloc diet      sex  \\\n",
       "339   FT109    s015     arcuate   19751     1      9       0   PR     male   \n",
       "923   FT120    s013     lathypo  224011    28     40       9   PR    male    \n",
       "1568  FT138    s002  caudateput  752411    79     23       4   NR  female    \n",
       "1942  FT149    s010      pvhypo   22657     2     14       1   PR   female   \n",
       "2368  FT162    s014     arcuate   26131     2      2       0   NR     male   \n",
       "\n",
       "     infusion1 infusion2  density_fos  density_trap  density_coloc  \\\n",
       "339     casein      malt     5.063035     45.567313       0.000000   \n",
       "923     casein    casein    12.499386     17.856266       4.017660   \n",
       "1568    casein     water    10.499581      3.056840       0.531624   \n",
       "1942    casein      malt     8.827294     61.791058       4.413647   \n",
       "2368    casein      malt     7.653745      7.653745       0.000000   \n",
       "\n",
       "      pc_fos_coloc  pc_trap_coloc  \n",
       "339       0.000000       0.000000  \n",
       "923      32.142857      22.500000  \n",
       "1568      5.063291      17.391304  \n",
       "1942     50.000000       7.142857  \n",
       "2368      0.000000       0.000000  "
      ]
     },
     "execution_count": 52,
     "metadata": {},
     "output_type": "execute_result"
    }
   ],
   "source": [
    "def tweak_meta(df):\n",
    "    return (df\n",
    "           .drop(['folder', 'slide1A', 'slide1B', 'slide1C'], axis=1)\n",
    "           .set_index(\"animal\")\n",
    "           )\n",
    "\n",
    "def tweak_rois(df, df_meta):\n",
    "    return (df\n",
    "            .drop(['Unnamed: 0.1', 'Unnamed: 0'], axis=1)\n",
    "            .drop_duplicates()\n",
    "            .join(df_meta, on=\"animal\")\n",
    "            .replace({\"malt \": \"malt\"})\n",
    "            .assign(region=lambda df_: df_.region.astype(\"category\"),\n",
    "                    diet=lambda df_: df_.diet.astype(\"category\"),\n",
    "                    sex=lambda df_: df_.sex.astype(\"category\"),\n",
    "                    infusion1=lambda df_: df_.infusion1.astype(\"category\"),\n",
    "                    infusion2=lambda df_: df_.infusion2.astype(\"category\"),\n",
    "                    density_fos=lambda df_: df_.nfos / df_.area * 100000,\n",
    "                    density_trap=lambda df_: df_.ntrap / df_.area * 100000,\n",
    "                    density_coloc=lambda df_: df_.ncoloc / df_.area * 100000,\n",
    "                    pc_fos_coloc=lambda df_: df_.ncoloc / df_.nfos * 100,\n",
    "                    pc_trap_coloc=lambda df_: df_.ncoloc / df_.ntrap * 100\n",
    "                   )\n",
    "           )\n",
    "\n",
    "df_meta = pd.read_csv(os.path.join(folder, \"results\", \"metafile_ftig.csv\"))\n",
    "df_meta = tweak_meta(df_meta)\n",
    "\n",
    "df = pd.read_csv(os.path.join(folder, \"results\", \"df_user_counts.csv\"))\n",
    "df = tweak_rois(df, df_meta)\n",
    "df.sample(5)"
   ]
  },
  {
   "cell_type": "code",
   "execution_count": 53,
   "id": "beed3f6d",
   "metadata": {},
   "outputs": [
    {
     "data": {
      "text/plain": [
       "['casein', 'water', 'malt']\n",
       "Categories (3, object): ['casein', 'malt', 'water']"
      ]
     },
     "execution_count": 53,
     "metadata": {},
     "output_type": "execute_result"
    }
   ],
   "source": [
    "df.infusion2.unique()"
   ]
  },
  {
   "cell_type": "code",
   "execution_count": 55,
   "id": "97e46cd8",
   "metadata": {},
   "outputs": [
    {
     "data": {
      "text/plain": [
       "['FT132',\n",
       " 'FT103',\n",
       " 'FT114',\n",
       " 'FT150',\n",
       " 'FT154',\n",
       " 'FT156',\n",
       " 'FT160',\n",
       " 'FT139',\n",
       " 'FT151']"
      ]
     },
     "execution_count": 55,
     "metadata": {},
     "output_type": "execute_result"
    }
   ],
   "source": [
    "# these animals are in the metafile but not in the CSV file - check why\n",
    "[id for id in df_meta.index if id not in df[\"animal\"].unique()]"
   ]
  },
  {
   "cell_type": "code",
   "execution_count": 56,
   "id": "b754b0eb",
   "metadata": {},
   "outputs": [
    {
     "data": {
      "text/plain": [
       "array(['FT102', 'FT104', 'FT105', 'FT106', 'FT108', 'FT109', 'FT110',\n",
       "       'FT111', 'FT112', 'FT116', 'FT118', 'FT119', 'FT120', 'FT126',\n",
       "       'FT127', 'FT128', 'FT131', 'FT133', 'FT134', 'FT136', 'FT137',\n",
       "       'FT138', 'FT140', 'FT141', 'FT144', 'FT145', 'FT147', 'FT148',\n",
       "       'FT149', 'FT153', 'FT155', 'FT157', 'FT161', 'FT162', 'FT163',\n",
       "       'FT164', 'FT166', 'FT167', 'FT168'], dtype=object)"
      ]
     },
     "execution_count": 56,
     "metadata": {},
     "output_type": "execute_result"
    }
   ],
   "source": [
    "df[\"animal\"].unique()"
   ]
  },
  {
   "cell_type": "code",
   "execution_count": 57,
   "id": "bfa2358b",
   "metadata": {},
   "outputs": [],
   "source": [
    "df.groupby(by=[\"region\", \"diet\", \"animal\", \"infusion2\"]).mean(numeric_only=True).to_csv(os.path.join(folder, \"results\", \"grouped.csv\"))"
   ]
  },
  {
   "cell_type": "code",
   "execution_count": 58,
   "id": "e3d226ed",
   "metadata": {},
   "outputs": [],
   "source": [
    "df.groupby(by=[\"region\", \"diet\", \"infusion2\"]).mean(numeric_only=True).to_csv(os.path.join(folder, \"results\", \"grouped_mean.csv\"))"
   ]
  },
  {
   "cell_type": "code",
   "execution_count": 59,
   "id": "17acccee",
   "metadata": {},
   "outputs": [],
   "source": [
    "df.groupby(by=[\"region\", \"diet\"]).mean(numeric_only=True).to_csv(os.path.join(folder, \"results\", \"grouped_mean_noinf2.csv\"))"
   ]
  },
  {
   "cell_type": "code",
   "execution_count": 60,
   "id": "c38afbe1",
   "metadata": {},
   "outputs": [],
   "source": [
    "df.groupby(by=[\"region\", \"infusion2\"]).mean(numeric_only=True).to_csv(os.path.join(folder, \"results\", \"grouped_mean_byinf.csv\"))"
   ]
  },
  {
   "cell_type": "code",
   "execution_count": 61,
   "id": "1167acd6",
   "metadata": {},
   "outputs": [],
   "source": [
    "df.groupby(by=[\"region\", \"infusion2\", \"animal\"]).mean(numeric_only=True).to_csv(os.path.join(folder, \"results\", \"grouped_byinf.csv\"))"
   ]
  },
  {
   "cell_type": "code",
   "execution_count": 62,
   "id": "ee05a88b",
   "metadata": {},
   "outputs": [],
   "source": [
    "df_grouped = df.groupby(by=[\"region\", \"diet\", \"animal\", \"infusion2\"]).mean(numeric_only=True).dropna()"
   ]
  },
  {
   "cell_type": "code",
   "execution_count": 63,
   "id": "cf2b78af",
   "metadata": {},
   "outputs": [
    {
     "name": "stdout",
     "output_type": "stream",
     "text": [
      "arcuate Ttest_indResult(statistic=3.577043595157625, pvalue=0.0011299180297176222)\n",
      "caudateput Ttest_indResult(statistic=1.6453109264441867, pvalue=0.10885850155283561)\n",
      "lathypo Ttest_indResult(statistic=1.4009871366224813, pvalue=0.17027958623566428)\n",
      "naccore Ttest_indResult(statistic=2.3392835242185708, pvalue=0.025155270062762778)\n",
      "nacshell Ttest_indResult(statistic=2.240729367902517, pvalue=0.03148978414161115)\n",
      "piriform Ttest_indResult(statistic=0.44902003046627614, pvalue=0.6561852739323262)\n",
      "pvhypo Ttest_indResult(statistic=2.387538852674079, pvalue=0.022845066503186438)\n",
      "pvthal Ttest_indResult(statistic=1.2089068093631317, pvalue=0.23503881306241722)\n"
     ]
    },
    {
     "data": {
      "text/plain": [
       "Text(0.5, 0, 'Density of trapped neurons')"
      ]
     },
     "execution_count": 63,
     "metadata": {},
     "output_type": "execute_result"
    },
    {
     "data": {
      "image/png": "[encoded data removed]",
      "text/plain": [
       "<Figure size 640x480 with 1 Axes>"
      ]
     },
     "metadata": {},
     "output_type": "display_data"
    }
   ],
   "source": [
    "spacing=0.2\n",
    "regions = df_grouped.index.get_level_values(0).unique().values\n",
    "\n",
    "f, ax = plt.subplots()\n",
    "for idx, region in enumerate(regions):\n",
    "\n",
    "    temp_df = df_grouped[\"density_trap\"].loc[region]\n",
    "    \n",
    "    NR = temp_df.loc[\"NR\"].values\n",
    "    PR = temp_df.loc[\"PR\"].values\n",
    "\n",
    "    NR_violin = ax.violinplot(NR, positions=[idx-spacing], vert=False)\n",
    "    PR_violin = ax.violinplot(PR, positions=[idx+spacing], vert=False)\n",
    "    \n",
    "    for vp in NR_violin[\"bodies\"]:\n",
    "        vp.set_facecolor(\"grey\")\n",
    "        \n",
    "    for vp in PR_violin[\"bodies\"]:\n",
    "        vp.set_facecolor(\"orange\")\n",
    "    \n",
    "    for partname in (\"cbars\", \"cmins\", \"cmaxes\"):\n",
    "        NR_violin[partname].set_edgecolor(\"black\")\n",
    "        PR_violin[partname].set_edgecolor(\"orange\")\n",
    "        \n",
    "    print(region, ttest_ind(NR,PR))\n",
    "\n",
    "\n",
    "ax.set_yticks(range(0,8))\n",
    "ax.set_yticklabels([str(x) for x in df_grouped.index.get_level_values(0).unique()])\n",
    "\n",
    "ax.set_xlabel(\"Density of trapped neurons\")"
   ]
  },
  {
   "cell_type": "code",
   "execution_count": 22,
   "id": "588d5ca3",
   "metadata": {},
   "outputs": [
    {
     "data": {
      "image/png": "[encoded data removed]",
      "text/plain": [
       "<Figure size 640x480 with 1 Axes>"
      ]
     },
     "metadata": {},
     "output_type": "display_data"
    }
   ],
   "source": [
    "spacing=0.2\n",
    "regions = df_grouped.index.get_level_values(0).unique().values\n",
    "\n",
    "f, ax = plt.subplots()\n",
    "for idx, region in enumerate(regions):\n",
    "\n",
    "    temp_df = df_grouped[\"density_trap\"].loc[region]\n",
    "    \n",
    "    NR = temp_df.loc[\"NR\"].values\n",
    "    PR = temp_df.loc[\"PR\"].values\n",
    "    \n",
    "    NR_scaled = NR / np.mean(NR)\n",
    "    PR_scaled = PR / np.mean(NR)\n",
    "    \n",
    "    NR_mean, NR_sem = tp.mean_and_sem(NR_scaled)\n",
    "    PR_mean, PR_sem = tp.mean_and_sem(PR_scaled)\n",
    "    \n",
    "    ax.errorbar(NR_mean, idx-spacing, xerr=NR_sem, marker=\"o\", color=\"grey\")\n",
    "    ax.errorbar(PR_mean, idx+spacing, xerr=PR_sem, marker=\"o\", color=\"orange\")\n",
    "\n",
    "ax.set_yticks(range(0,8))\n",
    "ax.set_yticklabels([str(x) for x in df_grouped.index.get_level_values(0).unique()])\n",
    "\n",
    "ax.set_xlabel(\"Density of trapped neurons (relative to NR)\")\n",
    "\n",
    "f.savefig(os.path.join(\"..\\\\results\", \"trapped_density.png\"))\n"
   ]
  },
  {
   "cell_type": "code",
   "execution_count": null,
   "id": "e94535b5",
   "metadata": {},
   "outputs": [],
   "source": []
  },
  {
   "cell_type": "code",
   "execution_count": 132,
   "id": "d7f15070",
   "metadata": {},
   "outputs": [],
   "source": [
    "df_inf = df.groupby(by=[\"region\", \"infusion2\", \"animal\"]).mean(numeric_only=True).dropna()"
   ]
  },
  {
   "cell_type": "code",
   "execution_count": 133,
   "id": "72145d03",
   "metadata": {},
   "outputs": [
    {
     "data": {
      "text/html": [
       "<div>\n",
       "<style scoped>\n",
       "    .dataframe tbody tr th:only-of-type {\n",
       "        vertical-align: middle;\n",
       "    }\n",
       "\n",
       "    .dataframe tbody tr th {\n",
       "        vertical-align: top;\n",
       "    }\n",
       "\n",
       "    .dataframe thead th {\n",
       "        text-align: right;\n",
       "    }\n",
       "</style>\n",
       "<table border=\"1\" class=\"dataframe\">\n",
       "  <thead>\n",
       "    <tr style=\"text-align: right;\">\n",
       "      <th></th>\n",
       "      <th></th>\n",
       "      <th></th>\n",
       "      <th>area</th>\n",
       "      <th>nfos</th>\n",
       "      <th>ntrap</th>\n",
       "      <th>ncoloc</th>\n",
       "      <th>density_fos</th>\n",
       "      <th>density_trap</th>\n",
       "      <th>density_coloc</th>\n",
       "      <th>pc_fos_coloc</th>\n",
       "      <th>pc_trap_coloc</th>\n",
       "    </tr>\n",
       "    <tr>\n",
       "      <th>region</th>\n",
       "      <th>infusion2</th>\n",
       "      <th>animal</th>\n",
       "      <th></th>\n",
       "      <th></th>\n",
       "      <th></th>\n",
       "      <th></th>\n",
       "      <th></th>\n",
       "      <th></th>\n",
       "      <th></th>\n",
       "      <th></th>\n",
       "      <th></th>\n",
       "    </tr>\n",
       "  </thead>\n",
       "  <tbody>\n",
       "    <tr>\n",
       "      <th rowspan=\"5\" valign=\"top\">arcuate</th>\n",
       "      <th rowspan=\"5\" valign=\"top\">casein</th>\n",
       "      <th>FT104</th>\n",
       "      <td>26813.500000</td>\n",
       "      <td>6.500000</td>\n",
       "      <td>8.250000</td>\n",
       "      <td>0.750000</td>\n",
       "      <td>21.612007</td>\n",
       "      <td>32.250430</td>\n",
       "      <td>2.614011</td>\n",
       "      <td>11.666667</td>\n",
       "      <td>8.116883</td>\n",
       "    </tr>\n",
       "    <tr>\n",
       "      <th>FT116</th>\n",
       "      <td>21467.500000</td>\n",
       "      <td>5.500000</td>\n",
       "      <td>2.250000</td>\n",
       "      <td>0.750000</td>\n",
       "      <td>26.449297</td>\n",
       "      <td>11.324868</td>\n",
       "      <td>3.737905</td>\n",
       "      <td>17.500000</td>\n",
       "      <td>27.777778</td>\n",
       "    </tr>\n",
       "    <tr>\n",
       "      <th>FT118</th>\n",
       "      <td>30243.666667</td>\n",
       "      <td>2.333333</td>\n",
       "      <td>17.000000</td>\n",
       "      <td>0.666667</td>\n",
       "      <td>7.472910</td>\n",
       "      <td>58.936091</td>\n",
       "      <td>2.288343</td>\n",
       "      <td>43.055556</td>\n",
       "      <td>3.266178</td>\n",
       "    </tr>\n",
       "    <tr>\n",
       "      <th>FT120</th>\n",
       "      <td>21730.666667</td>\n",
       "      <td>3.000000</td>\n",
       "      <td>5.833333</td>\n",
       "      <td>0.833333</td>\n",
       "      <td>14.158720</td>\n",
       "      <td>26.032235</td>\n",
       "      <td>3.772618</td>\n",
       "      <td>29.166667</td>\n",
       "      <td>11.435185</td>\n",
       "    </tr>\n",
       "    <tr>\n",
       "      <th>FT126</th>\n",
       "      <td>23079.500000</td>\n",
       "      <td>4.000000</td>\n",
       "      <td>4.500000</td>\n",
       "      <td>0.750000</td>\n",
       "      <td>18.477266</td>\n",
       "      <td>19.877427</td>\n",
       "      <td>3.611970</td>\n",
       "      <td>11.250000</td>\n",
       "      <td>12.500000</td>\n",
       "    </tr>\n",
       "    <tr>\n",
       "      <th>...</th>\n",
       "      <th>...</th>\n",
       "      <th>...</th>\n",
       "      <td>...</td>\n",
       "      <td>...</td>\n",
       "      <td>...</td>\n",
       "      <td>...</td>\n",
       "      <td>...</td>\n",
       "      <td>...</td>\n",
       "      <td>...</td>\n",
       "      <td>...</td>\n",
       "      <td>...</td>\n",
       "    </tr>\n",
       "    <tr>\n",
       "      <th rowspan=\"5\" valign=\"top\">pvthal</th>\n",
       "      <th rowspan=\"5\" valign=\"top\">water</th>\n",
       "      <th>FT148</th>\n",
       "      <td>46720.857143</td>\n",
       "      <td>53.714286</td>\n",
       "      <td>48.857143</td>\n",
       "      <td>14.571429</td>\n",
       "      <td>118.865053</td>\n",
       "      <td>106.144489</td>\n",
       "      <td>33.500053</td>\n",
       "      <td>27.967556</td>\n",
       "      <td>31.440998</td>\n",
       "    </tr>\n",
       "    <tr>\n",
       "      <th>FT153</th>\n",
       "      <td>38588.200000</td>\n",
       "      <td>41.700000</td>\n",
       "      <td>9.000000</td>\n",
       "      <td>2.400000</td>\n",
       "      <td>112.597876</td>\n",
       "      <td>23.742090</td>\n",
       "      <td>5.606194</td>\n",
       "      <td>5.054761</td>\n",
       "      <td>23.393939</td>\n",
       "    </tr>\n",
       "    <tr>\n",
       "      <th>FT155</th>\n",
       "      <td>42176.833333</td>\n",
       "      <td>56.166667</td>\n",
       "      <td>32.583333</td>\n",
       "      <td>10.666667</td>\n",
       "      <td>132.530176</td>\n",
       "      <td>78.236946</td>\n",
       "      <td>23.916225</td>\n",
       "      <td>17.853375</td>\n",
       "      <td>31.698577</td>\n",
       "    </tr>\n",
       "    <tr>\n",
       "      <th>FT157</th>\n",
       "      <td>45620.285714</td>\n",
       "      <td>57.428571</td>\n",
       "      <td>27.285714</td>\n",
       "      <td>8.928571</td>\n",
       "      <td>139.089617</td>\n",
       "      <td>59.773271</td>\n",
       "      <td>19.225106</td>\n",
       "      <td>14.608609</td>\n",
       "      <td>32.361577</td>\n",
       "    </tr>\n",
       "    <tr>\n",
       "      <th>FT167</th>\n",
       "      <td>34225.666667</td>\n",
       "      <td>8.500000</td>\n",
       "      <td>6.333333</td>\n",
       "      <td>1.416667</td>\n",
       "      <td>18.713743</td>\n",
       "      <td>14.049436</td>\n",
       "      <td>3.094952</td>\n",
       "      <td>13.952840</td>\n",
       "      <td>20.116809</td>\n",
       "    </tr>\n",
       "  </tbody>\n",
       "</table>\n",
       "<p>289 rows × 9 columns</p>\n",
       "</div>"
      ],
      "text/plain": [
       "                                  area       nfos      ntrap     ncoloc  \\\n",
       "region  infusion2 animal                                                  \n",
       "arcuate casein    FT104   26813.500000   6.500000   8.250000   0.750000   \n",
       "                  FT116   21467.500000   5.500000   2.250000   0.750000   \n",
       "                  FT118   30243.666667   2.333333  17.000000   0.666667   \n",
       "                  FT120   21730.666667   3.000000   5.833333   0.833333   \n",
       "                  FT126   23079.500000   4.000000   4.500000   0.750000   \n",
       "...                                ...        ...        ...        ...   \n",
       "pvthal  water     FT148   46720.857143  53.714286  48.857143  14.571429   \n",
       "                  FT153   38588.200000  41.700000   9.000000   2.400000   \n",
       "                  FT155   42176.833333  56.166667  32.583333  10.666667   \n",
       "                  FT157   45620.285714  57.428571  27.285714   8.928571   \n",
       "                  FT167   34225.666667   8.500000   6.333333   1.416667   \n",
       "\n",
       "                          density_fos  density_trap  density_coloc  \\\n",
       "region  infusion2 animal                                             \n",
       "arcuate casein    FT104     21.612007     32.250430       2.614011   \n",
       "                  FT116     26.449297     11.324868       3.737905   \n",
       "                  FT118      7.472910     58.936091       2.288343   \n",
       "                  FT120     14.158720     26.032235       3.772618   \n",
       "                  FT126     18.477266     19.877427       3.611970   \n",
       "...                               ...           ...            ...   \n",
       "pvthal  water     FT148    118.865053    106.144489      33.500053   \n",
       "                  FT153    112.597876     23.742090       5.606194   \n",
       "                  FT155    132.530176     78.236946      23.916225   \n",
       "                  FT157    139.089617     59.773271      19.225106   \n",
       "                  FT167     18.713743     14.049436       3.094952   \n",
       "\n",
       "                          pc_fos_coloc  pc_trap_coloc  \n",
       "region  infusion2 animal                               \n",
       "arcuate casein    FT104      11.666667       8.116883  \n",
       "                  FT116      17.500000      27.777778  \n",
       "                  FT118      43.055556       3.266178  \n",
       "                  FT120      29.166667      11.435185  \n",
       "                  FT126      11.250000      12.500000  \n",
       "...                                ...            ...  \n",
       "pvthal  water     FT148      27.967556      31.440998  \n",
       "                  FT153       5.054761      23.393939  \n",
       "                  FT155      17.853375      31.698577  \n",
       "                  FT157      14.608609      32.361577  \n",
       "                  FT167      13.952840      20.116809  \n",
       "\n",
       "[289 rows x 9 columns]"
      ]
     },
     "execution_count": 133,
     "metadata": {},
     "output_type": "execute_result"
    }
   ],
   "source": [
    "df_inf"
   ]
  },
  {
   "cell_type": "code",
   "execution_count": 176,
   "id": "47354d5f",
   "metadata": {},
   "outputs": [
    {
     "name": "stdout",
     "output_type": "stream",
     "text": [
      "arcuate Ttest_indResult(statistic=0.13842837524407423, pvalue=0.8937999692671967)\n",
      "caudateput Ttest_indResult(statistic=3.0368189257725073, pvalue=0.012530427907089366)\n",
      "lathypo Ttest_indResult(statistic=1.307287950502877, pvalue=0.22352457609273452)\n",
      "naccore Ttest_indResult(statistic=-0.559303568133881, pvalue=0.5882610609540656)\n",
      "nacshell Ttest_indResult(statistic=0.17400183193006644, pvalue=0.8653360719566137)\n",
      "piriform Ttest_indResult(statistic=1.4232817264364916, pvalue=0.18509610357130085)\n",
      "pvhypo Ttest_indResult(statistic=2.236981321499885, pvalue=0.05568711613800235)\n",
      "pvthal Ttest_indResult(statistic=2.3991904112208857, pvalue=0.039950881305097316)\n"
     ]
    },
    {
     "data": {
      "text/plain": [
       "Text(0.5, 0, 'Percent of trapped neurons with cfos')"
      ]
     },
     "execution_count": 176,
     "metadata": {},
     "output_type": "execute_result"
    },
    {
     "data": {
      "image/png": "[encoded data removed]",
      "text/plain": [
       "<Figure size 640x480 with 1 Axes>"
      ]
     },
     "metadata": {},
     "output_type": "display_data"
    }
   ],
   "source": [
    "# Breakdown by second infusion for non-restricted mice\n",
    "\n",
    "df_inf = df.groupby(by=[\"region\", \"diet\", \"infusion2\", \"animal\"]).mean(numeric_only=True).dropna()\n",
    "\n",
    "spacing=0.25\n",
    "regions = df_inf.index.get_level_values(0).unique().values\n",
    "\n",
    "f, ax = plt.subplots()\n",
    "for idx, region in enumerate(regions):\n",
    "\n",
    "    temp_df = df_inf[\"pc_trap_coloc\"].loc[region].loc[\"NR\"]\n",
    "    \n",
    "    cas = temp_df.loc[\"casein\"].values\n",
    "    malt = temp_df.loc[\"malt\"].values\n",
    "    water = temp_df.loc[\"water\"].values\n",
    "\n",
    "    cas_violin = ax.violinplot(cas, positions=[idx-spacing], vert=False)\n",
    "    malt_violin = ax.violinplot(malt, positions=[idx], vert=False)\n",
    "    water_violin = ax.violinplot(water, positions=[idx+spacing], vert=False)\n",
    "    \n",
    "    for vp in cas_violin[\"bodies\"]:\n",
    "        vp.set_facecolor(\"pink\")\n",
    "        \n",
    "    for vp in malt_violin[\"bodies\"]:\n",
    "        vp.set_facecolor(\"blue\")\n",
    "        \n",
    "    for vp in water_violin[\"bodies\"]:\n",
    "        vp.set_facecolor(\"gray\")\n",
    "    \n",
    "    for partname in (\"cbars\", \"cmins\", \"cmaxes\"):\n",
    "        cas_violin[partname].set_edgecolor(\"grey\")\n",
    "        malt_violin[partname].set_edgecolor(\"grey\")\n",
    "        water_violin[partname].set_edgecolor(\"grey\")\n",
    "        \n",
    "    print(region, ttest_ind(cas, malt))\n",
    "    \n",
    "ax.set_yticks(range(0,8))\n",
    "ax.set_yticklabels([str(x) for x in df_grouped.index.get_level_values(0).unique()])\n",
    "\n",
    "ax.set_xlabel(\"Percent of trapped neurons with cfos\")"
   ]
  },
  {
   "cell_type": "code",
   "execution_count": 175,
   "id": "bcdf479c",
   "metadata": {},
   "outputs": [
    {
     "name": "stdout",
     "output_type": "stream",
     "text": [
      "arcuate Ttest_indResult(statistic=1.0783766032667659, pvalue=0.30394523794143286)\n",
      "caudateput Ttest_indResult(statistic=-0.753509345734214, pvalue=0.46696618554562075)\n",
      "lathypo Ttest_indResult(statistic=0.6029764401745006, pvalue=0.5587512080288278)\n",
      "naccore Ttest_indResult(statistic=0.8641944172643843, pvalue=0.4059316876980664)\n",
      "nacshell Ttest_indResult(statistic=0.5009134233357313, pvalue=0.6263037893043968)\n",
      "piriform Ttest_indResult(statistic=0.5800898521832331, pvalue=0.5735443293883957)\n",
      "pvhypo Ttest_indResult(statistic=1.4728050322620874, pvalue=0.16883172472218386)\n",
      "pvthal Ttest_indResult(statistic=1.7964494974539995, pvalue=0.09990587515202586)\n"
     ]
    },
    {
     "data": {
      "text/plain": [
       "Text(0.5, 0, 'Percent of trapped neurons with cfos')"
      ]
     },
     "execution_count": 175,
     "metadata": {},
     "output_type": "execute_result"
    },
    {
     "data": {
      "image/png": "[encoded data removed]",
      "text/plain": [
       "<Figure size 640x480 with 1 Axes>"
      ]
     },
     "metadata": {},
     "output_type": "display_data"
    }
   ],
   "source": [
    "# Breakdown by second infusion for protein-restrcited mice\n",
    "\n",
    "df_inf = df.groupby(by=[\"region\", \"diet\", \"infusion2\", \"animal\"]).mean(numeric_only=True).dropna()\n",
    "\n",
    "spacing=0.25\n",
    "regions = df_inf.index.get_level_values(0).unique().values\n",
    "\n",
    "f, ax = plt.subplots()\n",
    "for idx, region in enumerate(regions):\n",
    "\n",
    "    temp_df = df_inf[\"pc_trap_coloc\"].loc[region].loc[\"PR\"]\n",
    "    \n",
    "    cas = temp_df.loc[\"casein\"].values\n",
    "    malt = temp_df.loc[\"malt\"].values\n",
    "    water = temp_df.loc[\"water\"].values\n",
    "\n",
    "    cas_violin = ax.violinplot(cas, positions=[idx-spacing], vert=False)\n",
    "    malt_violin = ax.violinplot(malt, positions=[idx], vert=False)\n",
    "    water_violin = ax.violinplot(water, positions=[idx+spacing], vert=False)\n",
    "    \n",
    "    for vp in cas_violin[\"bodies\"]:\n",
    "        vp.set_facecolor(\"pink\")\n",
    "        \n",
    "    for vp in malt_violin[\"bodies\"]:\n",
    "        vp.set_facecolor(\"blue\")\n",
    "        \n",
    "    for vp in water_violin[\"bodies\"]:\n",
    "        vp.set_facecolor(\"gray\")\n",
    "    \n",
    "    for partname in (\"cbars\", \"cmins\", \"cmaxes\"):\n",
    "        cas_violin[partname].set_edgecolor(\"grey\")\n",
    "        malt_violin[partname].set_edgecolor(\"grey\")\n",
    "        water_violin[partname].set_edgecolor(\"grey\")\n",
    "        \n",
    "    print(region, ttest_ind(cas, malt))\n",
    "    \n",
    "ax.set_yticks(range(0,8))\n",
    "ax.set_yticklabels([str(x) for x in df_grouped.index.get_level_values(0).unique()])\n",
    "\n",
    "ax.set_xlabel(\"Percent of trapped neurons with cfos\")"
   ]
  },
  {
   "cell_type": "code",
   "execution_count": 164,
   "id": "67c0cc5f",
   "metadata": {},
   "outputs": [
    {
     "data": {
      "text/plain": [
       "region   infusion2  animal\n",
       "arcuate  casein     FT104      8.116883\n",
       "                    FT118      3.266178\n",
       "                    FT128     21.233193\n",
       "         malt       FT110      4.788360\n",
       "                    FT111     13.395722\n",
       "Name: pc_trap_coloc, dtype: float64"
      ]
     },
     "execution_count": 164,
     "metadata": {},
     "output_type": "execute_result"
    }
   ],
   "source": [
    "temp_df = df_inf[\"pc_trap_coloc\"].xs(\"NR\", level=1)\n",
    "temp_df.head()"
   ]
  },
  {
   "cell_type": "code",
   "execution_count": 166,
   "id": "6f69740e",
   "metadata": {},
   "outputs": [
    {
     "data": {
      "text/plain": [
       "region   infusion2  animal\n",
       "arcuate  casein     FT104      8.116883\n",
       "                    FT118      3.266178\n",
       "                    FT128     21.233193\n",
       "         malt       FT110      4.788360\n",
       "                    FT111     13.395722\n",
       "Name: pc_trap_coloc, dtype: float64"
      ]
     },
     "execution_count": 166,
     "metadata": {},
     "output_type": "execute_result"
    }
   ],
   "source": [
    "temp_df = df_inf[\"pc_trap_coloc\"].xs(\"NR\", level=1, drop_level=True)\n",
    "temp_df.head()"
   ]
  },
  {
   "cell_type": "code",
   "execution_count": null,
   "id": "452b37d1",
   "metadata": {},
   "outputs": [],
   "source": []
  }
 ],
 "metadata": {
  "kernelspec": {
   "display_name": "Python 3 (ipykernel)",
   "language": "python",
   "name": "python3"
  },
  "language_info": {
   "codemirror_mode": {
    "name": "ipython",
    "version": 3
   },
   "file_extension": ".py",
   "mimetype": "text/x-python",
   "name": "python",
   "nbconvert_exporter": "python",
   "pygments_lexer": "ipython3",
   "version": "3.9.16"
  }
 },
 "nbformat": 4,
 "nbformat_minor": 5
}
